{
 "cells": [
  {
   "cell_type": "code",
   "execution_count": 1,
   "id": "244cc3b6",
   "metadata": {},
   "outputs": [],
   "source": [
    "import pandas as pd\n",
    "import cv2\n",
    "\n",
    "imageUrl = 'C://Users//Lenovo//Downloads//image01.jpg'\n",
    "clicked = False\n",
    "redValue = 0\n",
    "greenValue = 0\n",
    "blueValue = 0\n",
    "xPosition = 0\n",
    "yPosition = 0\n",
    "\n",
    "colorNameDataFrame = pd.read_csv('C://Users//Lenovo//OneDrive//Attachments//manisha//project//Python project//Color-Detection-master//wikipedia_color_names.csv')\n",
    "colorNameDataFrame.drop(colorNameDataFrame.iloc[:,5:8], inplace=True, axis=1)\n",
    "colorNameDataFrame.rename(columns={'Hex (24 bit)':'Hex', 'Red (8 bit)':'Red', 'Green (8 bit)':'Green', 'Blue (8 bit)':'Blue'}, inplace=True)\n",
    "image = cv2.imread(imageUrl)\n",
    "\n",
    "def getColorName(red,green,blue):\n",
    "    minimumValue = 10000\n",
    "    for i in range(len(colorNameDataFrame)):\n",
    "        rgbValue = abs(red- int(colorNameDataFrame.loc[i,\"Red\"])) + abs(green- int(colorNameDataFrame.loc[i,\"Green\"]))+ abs(blue- int(colorNameDataFrame.loc[i,\"Blue\"]))\n",
    "        if(rgbValue <= minimumValue):\n",
    "            minimumValue = rgbValue\n",
    "            colorName = colorNameDataFrame.loc[i,\"Name\"]\n",
    "    return colorName\n",
    "\n",
    "def draw_function(event, x,y, flags, param):\n",
    "    if event == cv2.EVENT_LBUTTONDBLCLK:\n",
    "        global blueValue, greenValue, redValue, xPosition, yPosition, clicked\n",
    "        clicked = True\n",
    "        xPosition = x\n",
    "        yPosition = y\n",
    "        blueValue, greenValue, redValue = image[yPosition, xPosition]\n",
    "        blueValue = int(blueValue)\n",
    "        greenValue = int(greenValue)\n",
    "        redValue = int(redValue)\n",
    "\n",
    "if __name__ == '__main__':\n",
    "    cv2.namedWindow('Color Name')\n",
    "    cv2.setMouseCallback('Color Name', draw_function)\n",
    "    \n",
    "    while (1):        \n",
    "        if (clicked):            \n",
    "            cv2.rectangle(image, (20, 20), (950, 60), (blueValue, greenValue, redValue), -1)\n",
    "            colorName = 'Selected color name is:-' + getColorName(redValue, greenValue, blueValue)\n",
    "            cv2.putText(image, colorName, (50, 50), 2, 0.75, (255, 255, 255), 1, cv2.FONT_ITALIC)\n",
    "            minimumValue = abs(redValue + greenValue + blueValue)\n",
    "            if (minimumValue >= 600):\n",
    "                cv2.putText(image, colorName, (50, 50), 2, 0.75, (0, 0, 0), 1, cv2.FONT_ITALIC)\n",
    "            clicked = False\n",
    "        cv2.imshow(\"Color Name\", image)\n",
    "        # Break the loop when user hits 'esc' key\n",
    "        if cv2.waitKey(20) & 0xFF == 27:\n",
    "            break\n",
    "            epochs (1/10)\n",
    "    cv2.destroyAllWindows()\n"
   ]
  },
  {
   "cell_type": "code",
   "execution_count": null,
   "id": "5abd3b7f",
   "metadata": {},
   "outputs": [],
   "source": []
  }
 ],
 "metadata": {
  "kernelspec": {
   "display_name": "Python 3 (ipykernel)",
   "language": "python",
   "name": "python3"
  },
  "language_info": {
   "codemirror_mode": {
    "name": "ipython",
    "version": 3
   },
   "file_extension": ".py",
   "mimetype": "text/x-python",
   "name": "python",
   "nbconvert_exporter": "python",
   "pygments_lexer": "ipython3",
   "version": "3.9.12"
  }
 },
 "nbformat": 4,
 "nbformat_minor": 5
}
